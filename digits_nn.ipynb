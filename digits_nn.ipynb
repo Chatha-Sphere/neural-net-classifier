{
 "cells": [
  {
   "cell_type": "code",
   "execution_count": 1,
   "metadata": {},
   "outputs": [],
   "source": [
    "import numpy as np\n",
    "import matplotlib.pyplot as plt\n",
    "from sklearn import datasets\n",
    "from neural_network import mnist_loader\n",
    "import neural_network.neural_network1 as nn"
   ]
  },
  {
   "cell_type": "markdown",
   "metadata": {},
   "source": [
    "#### Get Digits Data"
   ]
  },
  {
   "cell_type": "code",
   "execution_count": 2,
   "metadata": {},
   "outputs": [],
   "source": [
    "training_data, test_data = mnist_loader.extract()"
   ]
  },
  {
   "cell_type": "markdown",
   "metadata": {},
   "source": [
    "#### Visualize the Data"
   ]
  },
  {
   "cell_type": "code",
   "execution_count": 49,
   "metadata": {},
   "outputs": [
    {
     "data": {
      "image/png": "[encoded data removed]",
      "text/plain": [
       "<Figure size 288x288 with 10 Axes>"
      ]
     },
     "metadata": {
      "needs_background": "light"
     },
     "output_type": "display_data"
    }
   ],
   "source": [
    "sample = training_data[0][:10]\n",
    "sample = [x.reshape(28,28) for x in sample]\n",
    "_, axarr = plt.subplots(2,5, figsize=(4,4))\n",
    "for i in range(2):\n",
    "    for j in range(5):\n",
    "        k = i*5 + j\n",
    "        axarr[i,j].imshow(sample[k], cmap='gray')\n",
    "        axarr[i,j].axis('off')"
   ]
  },
  {
   "cell_type": "markdown",
   "metadata": {},
   "source": [
    "### Train the Classifier"
   ]
  },
  {
   "cell_type": "code",
   "execution_count": 5,
   "metadata": {},
   "outputs": [
    {
     "data": {
      "text/plain": [
       "(10000, 784)"
      ]
     },
     "execution_count": 5,
     "metadata": {},
     "output_type": "execute_result"
    }
   ],
   "source": [
    "test_data[0].shape"
   ]
  },
  {
   "cell_type": "code",
   "execution_count": 6,
   "metadata": {},
   "outputs": [
    {
     "data": {
      "text/plain": [
       "(10000, 10)"
      ]
     },
     "execution_count": 6,
     "metadata": {},
     "output_type": "execute_result"
    }
   ],
   "source": [
    "test_data[1].shape"
   ]
  },
  {
   "cell_type": "code",
   "execution_count": 56,
   "metadata": {},
   "outputs": [],
   "source": [
    "digits_nn = nn.NeuralNetwork([784, 30, 10])"
   ]
  },
  {
   "cell_type": "code",
   "execution_count": 57,
   "metadata": {},
   "outputs": [
    {
     "name": "stdout",
     "output_type": "stream",
     "text": [
      "Evaluating Epoch 2\n",
      "--> MSE: 0.06\n",
      "--> Correct prediction: 9296 / 10000\n",
      "----> 92.96%\n",
      "Evaluating Epoch 4\n",
      "--> MSE: 0.05\n",
      "--> Correct prediction: 9385 / 10000\n",
      "----> 93.85%\n",
      "Evaluating Epoch 6\n",
      "--> MSE: 0.05\n",
      "--> Correct prediction: 9440 / 10000\n",
      "----> 94.40%\n",
      "Evaluating Epoch 8\n",
      "--> MSE: 0.04\n",
      "--> Correct prediction: 9474 / 10000\n",
      "----> 94.74%\n",
      "Evaluating Epoch 10\n",
      "--> MSE: 0.04\n",
      "--> Correct prediction: 9502 / 10000\n",
      "----> 95.02%\n",
      "Evaluating Epoch 12\n",
      "--> MSE: 0.04\n",
      "--> Correct prediction: 9530 / 10000\n",
      "----> 95.30%\n",
      "Evaluating Epoch 14\n",
      "--> MSE: 0.04\n",
      "--> Correct prediction: 9556 / 10000\n",
      "----> 95.56%\n",
      "Evaluating Epoch 16\n",
      "--> MSE: 0.04\n",
      "--> Correct prediction: 9545 / 10000\n",
      "----> 95.45%\n",
      "Evaluating Epoch 18\n",
      "--> MSE: 0.04\n",
      "--> Correct prediction: 9562 / 10000\n",
      "----> 95.62%\n",
      "Evaluating Epoch 20\n",
      "--> MSE: 0.04\n",
      "--> Correct prediction: 9581 / 10000\n",
      "----> 95.81%\n"
     ]
    }
   ],
   "source": [
    "digits_nn.train(training_data, epochs = 20, batch_size = 100, \n",
    "         learning_rate = 3, test_data = test_data, evaluate_per=2)"
   ]
  },
  {
   "cell_type": "markdown",
   "metadata": {},
   "source": [
    "### Single Layer"
   ]
  },
  {
   "cell_type": "code",
   "execution_count": 12,
   "metadata": {},
   "outputs": [
    {
     "name": "stdout",
     "output_type": "stream",
     "text": [
      "Evaluating Epoch 2\n",
      "--> MSE: 0.10\n",
      "--> Correct prediction: 9050 / 10000\n",
      "----> 90.50%\n",
      "Evaluating Epoch 4\n",
      "--> MSE: 0.09\n",
      "--> Correct prediction: 9092 / 10000\n",
      "----> 90.92%\n",
      "Evaluating Epoch 6\n",
      "--> MSE: 0.09\n",
      "--> Correct prediction: 9125 / 10000\n",
      "----> 91.25%\n",
      "Evaluating Epoch 8\n",
      "--> MSE: 0.09\n",
      "--> Correct prediction: 9133 / 10000\n",
      "----> 91.33%\n",
      "Evaluating Epoch 10\n",
      "--> MSE: 0.08\n",
      "--> Correct prediction: 9158 / 10000\n",
      "----> 91.58%\n",
      "Evaluating Epoch 12\n",
      "--> MSE: 0.08\n",
      "--> Correct prediction: 9154 / 10000\n",
      "----> 91.54%\n",
      "Evaluating Epoch 14\n",
      "--> MSE: 0.08\n",
      "--> Correct prediction: 9167 / 10000\n",
      "----> 91.67%\n",
      "Evaluating Epoch 16\n",
      "--> MSE: 0.08\n",
      "--> Correct prediction: 9163 / 10000\n",
      "----> 91.63%\n",
      "Evaluating Epoch 18\n",
      "--> MSE: 0.08\n",
      "--> Correct prediction: 9174 / 10000\n",
      "----> 91.74%\n",
      "Evaluating Epoch 20\n",
      "--> MSE: 0.08\n",
      "--> Correct prediction: 9174 / 10000\n",
      "----> 91.74%\n"
     ]
    }
   ],
   "source": [
    "digits_one_layer = nn.NeuralNetwork([784,10])\n",
    "digits_one_layer.train(training_data, epochs = 20, batch_size = 100, \n",
    "         learning_rate = .5, test_data = test_data, evaluate_per=2)"
   ]
  },
  {
   "cell_type": "code",
   "execution_count": null,
   "metadata": {},
   "outputs": [],
   "source": []
  }
 ],
 "metadata": {
  "kernelspec": {
   "display_name": "Python 3",
   "language": "python",
   "name": "python3"
  },
  "language_info": {
   "codemirror_mode": {
    "name": "ipython",
    "version": 3
   },
   "file_extension": ".py",
   "mimetype": "text/x-python",
   "name": "python",
   "nbconvert_exporter": "python",
   "pygments_lexer": "ipython3",
   "version": "3.7.3"
  }
 },
 "nbformat": 4,
 "nbformat_minor": 2
}
