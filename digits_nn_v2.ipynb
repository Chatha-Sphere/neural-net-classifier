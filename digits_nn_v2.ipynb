{
 "cells": [
  {
   "cell_type": "code",
   "execution_count": 1,
   "metadata": {},
   "outputs": [],
   "source": [
    "import numpy as np\n",
    "import matplotlib.pyplot as plt\n",
    "from sklearn import datasets\n",
    "from neural_network import mnist_loader\n",
    "import neural_network.neural_network2 as nn"
   ]
  },
  {
   "cell_type": "code",
   "execution_count": 94,
   "metadata": {},
   "outputs": [],
   "source": [
    "from neural_network import viz"
   ]
  },
  {
   "cell_type": "markdown",
   "metadata": {},
   "source": [
    "#### Get Digits Data"
   ]
  },
  {
   "cell_type": "code",
   "execution_count": 2,
   "metadata": {},
   "outputs": [],
   "source": [
    "training_data, test_data = mnist_loader.extract()"
   ]
  },
  {
   "cell_type": "markdown",
   "metadata": {},
   "source": [
    "#### Visualize the Data"
   ]
  },
  {
   "cell_type": "code",
   "execution_count": 3,
   "metadata": {},
   "outputs": [
    {
     "data": {
      "image/png": "[encoded data removed]",
      "text/plain": [
       "<Figure size 288x288 with 10 Axes>"
      ]
     },
     "metadata": {
      "needs_background": "light"
     },
     "output_type": "display_data"
    }
   ],
   "source": [
    "sample = training_data[0][:10]\n",
    "sample = [x.reshape(28,28) for x in sample]\n",
    "_, axarr = plt.subplots(2,5, figsize=(4,4))\n",
    "for i in range(2):\n",
    "    for j in range(5):\n",
    "        k = i*5 + j\n",
    "        axarr[i,j].imshow(sample[k], cmap='gray')\n",
    "        axarr[i,j].axis('off')"
   ]
  },
  {
   "cell_type": "markdown",
   "metadata": {},
   "source": [
    "## Train some Networks!"
   ]
  },
  {
   "cell_type": "code",
   "execution_count": 4,
   "metadata": {},
   "outputs": [],
   "source": [
    "from importlib import reload"
   ]
  },
  {
   "cell_type": "code",
   "execution_count": 143,
   "metadata": {},
   "outputs": [
    {
     "name": "stdout",
     "output_type": "stream",
     "text": [
      "Epoch 2 complete\n",
      "Loss on training data: 0.08\n",
      "Accuracy on evaluation data: 9190/10000\n",
      "--> 91.90%\n",
      "Epoch 4 complete\n",
      "Loss on training data: 0.08\n",
      "Accuracy on evaluation data: 9267/10000\n",
      "--> 92.67%\n",
      "Epoch 6 complete\n",
      "Loss on training data: 0.07\n",
      "Accuracy on evaluation data: 9252/10000\n",
      "--> 92.52%\n",
      "Epoch 8 complete\n",
      "Loss on training data: 0.07\n",
      "Accuracy on evaluation data: 9278/10000\n",
      "--> 92.78%\n",
      "Epoch 10 complete\n",
      "Loss on training data: 0.07\n",
      "Accuracy on evaluation data: 9279/10000\n",
      "--> 92.79%\n",
      "Epoch 12 complete\n",
      "Loss on training data: 0.07\n",
      "Accuracy on evaluation data: 9300/10000\n",
      "--> 93.00%\n",
      "Epoch 14 complete\n",
      "Loss on training data: 0.07\n",
      "Accuracy on evaluation data: 9279/10000\n",
      "--> 92.79%\n",
      "Epoch 16 complete\n",
      "Loss on training data: 0.07\n",
      "Accuracy on evaluation data: 9277/10000\n",
      "--> 92.77%\n",
      "Epoch 18 complete\n",
      "Loss on training data: 0.07\n",
      "Accuracy on evaluation data: 9288/10000\n",
      "--> 92.88%\n",
      "Epoch 20 complete\n",
      "Loss on training data: 0.07\n",
      "Accuracy on evaluation data: 9280/10000\n",
      "--> 92.80%\n"
     ]
    }
   ],
   "source": [
    "digits_1 = nn.NeuralNetwork([784, 30, 10], cost = quadraticcost)\n",
    "perf_1 = digits_nn.train(training_data, epochs = 20, batch_size = 100, \n",
    "         learning_rate = 2, regularization = 0, evaluation_data = test_data, epochs_per_print=2)"
   ]
  },
  {
   "cell_type": "code",
   "execution_count": 144,
   "metadata": {},
   "outputs": [
    {
     "data": {
      "image/png": "[encoded data removed]",
      "text/plain": [
       "<Figure size 432x288 with 1 Axes>"
      ]
     },
     "metadata": {
      "needs_background": "light"
     },
     "output_type": "display_data"
    }
   ],
   "source": [
    "viz.loss_over_epochs(perf_1['training_loss'])"
   ]
  },
  {
   "cell_type": "code",
   "execution_count": 142,
   "metadata": {},
   "outputs": [],
   "source": [
    "#viz.accuracy_over_epochs(perf_1['training_accuracy'])"
   ]
  },
  {
   "cell_type": "markdown",
   "metadata": {},
   "source": [
    "#### Cross Entropy Loss"
   ]
  },
  {
   "cell_type": "code",
   "execution_count": 151,
   "metadata": {},
   "outputs": [
    {
     "name": "stdout",
     "output_type": "stream",
     "text": [
      "Epoch 1 complete\n",
      "Loss on training data: 0.09\n",
      "Accuracy on evaluation data: 9255/10000\n",
      "--> 92.55%\n",
      "Epoch 2 complete\n",
      "Loss on training data: 0.08\n",
      "Accuracy on evaluation data: 9378/10000\n",
      "--> 93.78%\n",
      "Epoch 3 complete\n",
      "Loss on training data: 0.07\n",
      "Accuracy on evaluation data: 9412/10000\n",
      "--> 94.12%\n",
      "Epoch 4 complete\n",
      "Loss on training data: 0.06\n",
      "Accuracy on evaluation data: 9519/10000\n",
      "--> 95.19%\n",
      "Epoch 5 complete\n",
      "Loss on training data: 0.06\n",
      "Accuracy on evaluation data: 9529/10000\n",
      "--> 95.29%\n",
      "Epoch 6 complete\n",
      "Loss on training data: 0.05\n",
      "Accuracy on evaluation data: 9557/10000\n",
      "--> 95.57%\n",
      "Epoch 7 complete\n",
      "Loss on training data: 0.05\n",
      "Accuracy on evaluation data: 9579/10000\n",
      "--> 95.79%\n",
      "Epoch 8 complete\n",
      "Loss on training data: 0.05\n",
      "Accuracy on evaluation data: 9598/10000\n",
      "--> 95.98%\n",
      "Epoch 9 complete\n",
      "Loss on training data: 0.05\n",
      "Accuracy on evaluation data: 9566/10000\n",
      "--> 95.66%\n",
      "Epoch 10 complete\n",
      "Loss on training data: 0.05\n",
      "Accuracy on evaluation data: 9601/10000\n",
      "--> 96.01%\n",
      "Epoch 11 complete\n",
      "Loss on training data: 0.05\n",
      "Accuracy on evaluation data: 9598/10000\n",
      "--> 95.98%\n",
      "Epoch 12 complete\n",
      "Loss on training data: 0.05\n",
      "Accuracy on evaluation data: 9624/10000\n",
      "--> 96.24%\n",
      "Epoch 13 complete\n",
      "Loss on training data: 0.04\n",
      "Accuracy on evaluation data: 9616/10000\n",
      "--> 96.16%\n",
      "Epoch 14 complete\n",
      "Loss on training data: 0.04\n",
      "Accuracy on evaluation data: 9615/10000\n",
      "--> 96.15%\n",
      "Epoch 15 complete\n",
      "Loss on training data: 0.04\n",
      "Accuracy on evaluation data: 9625/10000\n",
      "--> 96.25%\n",
      "Epoch 16 complete\n",
      "Loss on training data: 0.04\n",
      "Accuracy on evaluation data: 9630/10000\n",
      "--> 96.30%\n",
      "Epoch 17 complete\n",
      "Loss on training data: 0.04\n",
      "Accuracy on evaluation data: 9628/10000\n",
      "--> 96.28%\n",
      "Epoch 18 complete\n",
      "Loss on training data: 0.04\n",
      "Accuracy on evaluation data: 9634/10000\n",
      "--> 96.34%\n",
      "Epoch 19 complete\n",
      "Loss on training data: 0.04\n",
      "Accuracy on evaluation data: 9641/10000\n",
      "--> 96.41%\n",
      "Epoch 20 complete\n",
      "Loss on training data: 0.04\n",
      "Accuracy on evaluation data: 9653/10000\n",
      "--> 96.53%\n"
     ]
    }
   ],
   "source": [
    "cenn = nn.NeuralNetwork([784,30,10])\n",
    "ce_trial = cenn.train(training_data, epochs = 20, batch_size = 100, \n",
    "         learning_rate = 0.5, regularization = 0, evaluation_data = test_data, epochs_per_print=1)"
   ]
  },
  {
   "cell_type": "code",
   "execution_count": 150,
   "metadata": {},
   "outputs": [
    {
     "data": {
      "image/png": "[encoded data removed]",
      "text/plain": [
       "<Figure size 432x288 with 1 Axes>"
      ]
     },
     "metadata": {
      "needs_background": "light"
     },
     "output_type": "display_data"
    }
   ],
   "source": [
    "viz.loss_over_epochs(ce_trial['training_loss'])"
   ]
  },
  {
   "cell_type": "markdown",
   "metadata": {},
   "source": [
    "### Compare Different Learning Rates"
   ]
  },
  {
   "cell_type": "code",
   "execution_count": 73,
   "metadata": {},
   "outputs": [
    {
     "name": "stdout",
     "output_type": "stream",
     "text": [
      "Epoch 20 complete\n",
      "Loss on training data: 0.36\n",
      "Accuracy on evaluation data: 3092/10000\n",
      "--> 30.92%\n"
     ]
    }
   ],
   "source": [
    "nn0 = nn.NeuralNetwork([784, 30, 10], cost=quadraticcost)\n",
    "trial0 = nn0.train(training_data, epochs = 20, batch_size = 100, \n",
    "         learning_rate = 5, regularization = 0, evaluation_data = test_data, epochs_per_print=20)"
   ]
  },
  {
   "cell_type": "code",
   "execution_count": 74,
   "metadata": {},
   "outputs": [
    {
     "name": "stdout",
     "output_type": "stream",
     "text": [
      "Epoch 20 complete\n",
      "Loss on training data: 0.04\n",
      "Accuracy on evaluation data: 9641/10000\n",
      "--> 96.41%\n"
     ]
    }
   ],
   "source": [
    "nn1 = nn.NeuralNetwork([784, 30, 10], cost=quadraticcost)\n",
    "trial1 = nn1.train(training_data, epochs = 20, batch_size = 100, \n",
    "         learning_rate = 1, regularization = 0, evaluation_data = test_data, epochs_per_print=20)"
   ]
  },
  {
   "cell_type": "code",
   "execution_count": 75,
   "metadata": {},
   "outputs": [
    {
     "name": "stdout",
     "output_type": "stream",
     "text": [
      "Epoch 20 complete\n",
      "Loss on training data: 0.04\n",
      "Accuracy on evaluation data: 9653/10000\n",
      "--> 96.53%\n"
     ]
    }
   ],
   "source": [
    "nn2 = nn.NeuralNetwork([784, 30, 10], cost=quadraticcost)\n",
    "trial2 = nn2.train(training_data, epochs = 20, batch_size = 100, \n",
    "         learning_rate = 0.5, regularization = 0, evaluation_data = test_data, epochs_per_print=20)"
   ]
  },
  {
   "cell_type": "code",
   "execution_count": 76,
   "metadata": {},
   "outputs": [
    {
     "name": "stdout",
     "output_type": "stream",
     "text": [
      "Epoch 20 complete\n",
      "Loss on training data: 0.08\n",
      "Accuracy on evaluation data: 9224/10000\n",
      "--> 92.24%\n"
     ]
    }
   ],
   "source": [
    "nn3 = nn.NeuralNetwork([784, 30, 10], cost=quadraticcost)\n",
    "trial3 = nn3.train(training_data, epochs = 20, batch_size = 100, \n",
    "         learning_rate = 3, regularization = 0, evaluation_data = test_data, epochs_per_print=20)"
   ]
  },
  {
   "cell_type": "code",
   "execution_count": 117,
   "metadata": {},
   "outputs": [],
   "source": [
    "accs = [t['evaluation_accuracy'] for t in [trial0, trial1, trial2, trial3]]\n",
    "losses = [trial0['training_loss'], trial1['training_loss'], trial2['training_loss'], trial3['training_loss']]\n",
    "labels = ['h = 5', 'h = 1', 'h = 0.5', 'h = 3']"
   ]
  },
  {
   "cell_type": "code",
   "execution_count": 107,
   "metadata": {},
   "outputs": [
    {
     "data": {
      "image/png": "[encoded data removed]",
      "text/plain": [
       "<Figure size 432x288 with 1 Axes>"
      ]
     },
     "metadata": {
      "needs_background": "light"
     },
     "output_type": "display_data"
    }
   ],
   "source": [
    "viz.compare_losses(losses, labels)"
   ]
  },
  {
   "cell_type": "code",
   "execution_count": 121,
   "metadata": {},
   "outputs": [
    {
     "data": {
      "image/png": "[encoded data removed]",
      "text/plain": [
       "<Figure size 432x288 with 1 Axes>"
      ]
     },
     "metadata": {
      "needs_background": "light"
     },
     "output_type": "display_data"
    }
   ],
   "source": [
    "viz.compare_accuracies(accs, labels)"
   ]
  },
  {
   "cell_type": "markdown",
   "metadata": {},
   "source": [
    "#### Experimenting with Cross Entropy Loss"
   ]
  },
  {
   "cell_type": "code",
   "execution_count": 128,
   "metadata": {},
   "outputs": [
    {
     "data": {
      "text/plain": [
       "<module 'neural_network.neural_network2' from '/Users/nikku/projects/neural_net_classifier/neural_network/neural_network2.py'>"
      ]
     },
     "execution_count": 128,
     "metadata": {},
     "output_type": "execute_result"
    }
   ],
   "source": [
    "reload(nn)"
   ]
  },
  {
   "cell_type": "code",
   "execution_count": 133,
   "metadata": {},
   "outputs": [
    {
     "name": "stdout",
     "output_type": "stream",
     "text": [
      "Epoch 1 complete\n",
      "Loss on training data: 0.42\n",
      "Accuracy on evaluation data: 3730/10000\n",
      "--> 37.30%\n",
      "Epoch 2 complete\n",
      "Loss on training data: 0.42\n",
      "Accuracy on evaluation data: 2899/10000\n",
      "--> 28.99%\n",
      "Epoch 3 complete\n",
      "Loss on training data: 0.42\n",
      "Accuracy on evaluation data: 3148/10000\n",
      "--> 31.48%\n",
      "Epoch 4 complete\n",
      "Loss on training data: 0.42\n",
      "Accuracy on evaluation data: 2915/10000\n",
      "--> 29.15%\n",
      "Epoch 5 complete\n",
      "Loss on training data: 0.42\n",
      "Accuracy on evaluation data: 2946/10000\n",
      "--> 29.46%\n"
     ]
    },
    {
     "ename": "KeyboardInterrupt",
     "evalue": "",
     "output_type": "error",
     "traceback": [
      "\u001b[0;31m---------------------------------------------------------------------------\u001b[0m",
      "\u001b[0;31mKeyboardInterrupt\u001b[0m                         Traceback (most recent call last)",
      "\u001b[0;32m<ipython-input-133-40e700495a80>\u001b[0m in \u001b[0;36m<module>\u001b[0;34m\u001b[0m\n\u001b[1;32m      1\u001b[0m \u001b[0mcenn\u001b[0m \u001b[0;34m=\u001b[0m \u001b[0mnn\u001b[0m\u001b[0;34m.\u001b[0m\u001b[0mNeuralNetwork\u001b[0m\u001b[0;34m(\u001b[0m\u001b[0;34m[\u001b[0m\u001b[0;36m784\u001b[0m\u001b[0;34m,\u001b[0m\u001b[0;36m30\u001b[0m\u001b[0;34m,\u001b[0m\u001b[0;36m10\u001b[0m\u001b[0;34m]\u001b[0m\u001b[0;34m)\u001b[0m\u001b[0;34m\u001b[0m\u001b[0;34m\u001b[0m\u001b[0m\n\u001b[1;32m      2\u001b[0m ce_trial = cenn.train(training_data, epochs = 20, batch_size = 100, \n\u001b[0;32m----> 3\u001b[0;31m          learning_rate = 0.5, regularization = 0.1, evaluation_data = test_data, epochs_per_print=1)\n\u001b[0m",
      "\u001b[0;32m~/projects/neural_net_classifier/neural_network/neural_network2.py\u001b[0m in \u001b[0;36mtrain\u001b[0;34m(self, training_data, epochs, learning_rate, regularization, batch_size, evaluation_data, epochs_per_print, monitor_training, monitor_evaluation)\u001b[0m\n\u001b[1;32m    139\u001b[0m                 \u001b[0mX_batch\u001b[0m \u001b[0;34m=\u001b[0m \u001b[0mX\u001b[0m\u001b[0;34m[\u001b[0m\u001b[0mj\u001b[0m\u001b[0;34m:\u001b[0m \u001b[0mj\u001b[0m \u001b[0;34m+\u001b[0m \u001b[0mbatch_size\u001b[0m\u001b[0;34m]\u001b[0m\u001b[0;34m\u001b[0m\u001b[0;34m\u001b[0m\u001b[0m\n\u001b[1;32m    140\u001b[0m                 \u001b[0mY_batch\u001b[0m \u001b[0;34m=\u001b[0m \u001b[0mY\u001b[0m\u001b[0;34m[\u001b[0m\u001b[0mj\u001b[0m\u001b[0;34m:\u001b[0m \u001b[0mj\u001b[0m \u001b[0;34m+\u001b[0m \u001b[0mbatch_size\u001b[0m\u001b[0;34m]\u001b[0m\u001b[0;34m\u001b[0m\u001b[0;34m\u001b[0m\u001b[0m\n\u001b[0;32m--> 141\u001b[0;31m                 \u001b[0mself\u001b[0m\u001b[0;34m.\u001b[0m\u001b[0mupdate_batch\u001b[0m\u001b[0;34m(\u001b[0m\u001b[0mX_batch\u001b[0m\u001b[0;34m,\u001b[0m \u001b[0mY_batch\u001b[0m\u001b[0;34m,\u001b[0m \u001b[0mlearning_rate\u001b[0m\u001b[0;34m,\u001b[0m \u001b[0mregularization\u001b[0m\u001b[0;34m)\u001b[0m\u001b[0;34m\u001b[0m\u001b[0;34m\u001b[0m\u001b[0m\n\u001b[0m\u001b[1;32m    142\u001b[0m             \u001b[0mverbose\u001b[0m \u001b[0;34m=\u001b[0m \u001b[0;32mFalse\u001b[0m\u001b[0;34m\u001b[0m\u001b[0;34m\u001b[0m\u001b[0m\n\u001b[1;32m    143\u001b[0m             \u001b[0;32mif\u001b[0m \u001b[0;32mnot\u001b[0m\u001b[0;34m(\u001b[0m\u001b[0;34m(\u001b[0m\u001b[0mi\u001b[0m\u001b[0;34m+\u001b[0m\u001b[0;36m1\u001b[0m\u001b[0;34m)\u001b[0m \u001b[0;34m%\u001b[0m \u001b[0mepochs_per_print\u001b[0m\u001b[0;34m)\u001b[0m\u001b[0;34m:\u001b[0m\u001b[0;34m\u001b[0m\u001b[0;34m\u001b[0m\u001b[0m\n",
      "\u001b[0;32m~/projects/neural_net_classifier/neural_network/neural_network2.py\u001b[0m in \u001b[0;36mupdate_batch\u001b[0;34m(self, X, Y, learning_rate, regularization)\u001b[0m\n\u001b[1;32m     55\u001b[0m         \u001b[0;31m#Sum the cost function gradient (w.r.t weights, biases) for each\u001b[0m\u001b[0;34m\u001b[0m\u001b[0;34m\u001b[0m\u001b[0;34m\u001b[0m\u001b[0m\n\u001b[1;32m     56\u001b[0m         \u001b[0;31m#data point in the mini-batch\u001b[0m\u001b[0;34m\u001b[0m\u001b[0;34m\u001b[0m\u001b[0;34m\u001b[0m\u001b[0m\n\u001b[0;32m---> 57\u001b[0;31m         \u001b[0mdel_weights\u001b[0m\u001b[0;34m,\u001b[0m \u001b[0mdel_biases\u001b[0m \u001b[0;34m=\u001b[0m \u001b[0mself\u001b[0m\u001b[0;34m.\u001b[0m\u001b[0mbackpropagate\u001b[0m\u001b[0;34m(\u001b[0m\u001b[0mX\u001b[0m\u001b[0;34m,\u001b[0m\u001b[0mY\u001b[0m\u001b[0;34m,\u001b[0m\u001b[0mm\u001b[0m\u001b[0;34m)\u001b[0m\u001b[0;34m\u001b[0m\u001b[0;34m\u001b[0m\u001b[0m\n\u001b[0m\u001b[1;32m     58\u001b[0m         \u001b[0;32mfor\u001b[0m \u001b[0ml\u001b[0m \u001b[0;32min\u001b[0m \u001b[0mrange\u001b[0m\u001b[0;34m(\u001b[0m\u001b[0mlen\u001b[0m\u001b[0;34m(\u001b[0m\u001b[0mself\u001b[0m\u001b[0;34m.\u001b[0m\u001b[0msizes\u001b[0m\u001b[0;34m)\u001b[0m \u001b[0;34m-\u001b[0m \u001b[0;36m1\u001b[0m\u001b[0;34m)\u001b[0m\u001b[0;34m:\u001b[0m\u001b[0;34m\u001b[0m\u001b[0;34m\u001b[0m\u001b[0m\n\u001b[1;32m     59\u001b[0m             \u001b[0;31m#regularize weights\u001b[0m\u001b[0;34m\u001b[0m\u001b[0;34m\u001b[0m\u001b[0;34m\u001b[0m\u001b[0m\n",
      "\u001b[0;32m~/projects/neural_net_classifier/neural_network/neural_network2.py\u001b[0m in \u001b[0;36mbackpropagate\u001b[0;34m(self, X, Y, m)\u001b[0m\n\u001b[1;32m     74\u001b[0m         \u001b[0;31m#feed forward and store As, Zs\u001b[0m\u001b[0;34m\u001b[0m\u001b[0;34m\u001b[0m\u001b[0;34m\u001b[0m\u001b[0m\n\u001b[1;32m     75\u001b[0m         \u001b[0;32mfor\u001b[0m \u001b[0ml\u001b[0m \u001b[0;32min\u001b[0m \u001b[0mrange\u001b[0m\u001b[0;34m(\u001b[0m\u001b[0;36m0\u001b[0m\u001b[0;34m,\u001b[0m \u001b[0mlen\u001b[0m\u001b[0;34m(\u001b[0m\u001b[0mself\u001b[0m\u001b[0;34m.\u001b[0m\u001b[0msizes\u001b[0m\u001b[0;34m)\u001b[0m \u001b[0;34m-\u001b[0m \u001b[0;36m1\u001b[0m\u001b[0;34m)\u001b[0m\u001b[0;34m:\u001b[0m\u001b[0;34m\u001b[0m\u001b[0;34m\u001b[0m\u001b[0m\n\u001b[0;32m---> 76\u001b[0;31m             \u001b[0mA\u001b[0m\u001b[0;34m,\u001b[0m\u001b[0mZ\u001b[0m \u001b[0;34m=\u001b[0m \u001b[0mself\u001b[0m\u001b[0;34m.\u001b[0m\u001b[0mforward_prop_layer\u001b[0m\u001b[0;34m(\u001b[0m\u001b[0ml\u001b[0m\u001b[0;34m,\u001b[0m \u001b[0mA\u001b[0m\u001b[0;34m)\u001b[0m\u001b[0;34m\u001b[0m\u001b[0;34m\u001b[0m\u001b[0m\n\u001b[0m\u001b[1;32m     77\u001b[0m             \u001b[0mactivations\u001b[0m\u001b[0;34m.\u001b[0m\u001b[0mappend\u001b[0m\u001b[0;34m(\u001b[0m\u001b[0mA\u001b[0m\u001b[0;34m)\u001b[0m\u001b[0;34m\u001b[0m\u001b[0;34m\u001b[0m\u001b[0m\n\u001b[1;32m     78\u001b[0m             \u001b[0mzs\u001b[0m\u001b[0;34m.\u001b[0m\u001b[0mappend\u001b[0m\u001b[0;34m(\u001b[0m\u001b[0mZ\u001b[0m\u001b[0;34m)\u001b[0m\u001b[0;34m\u001b[0m\u001b[0;34m\u001b[0m\u001b[0m\n",
      "\u001b[0;32m~/projects/neural_net_classifier/neural_network/neural_network2.py\u001b[0m in \u001b[0;36mforward_prop_layer\u001b[0;34m(self, layer_number, A)\u001b[0m\n\u001b[1;32m     36\u001b[0m         \u001b[0mW\u001b[0m \u001b[0;34m=\u001b[0m \u001b[0mself\u001b[0m\u001b[0;34m.\u001b[0m\u001b[0mweights\u001b[0m\u001b[0;34m[\u001b[0m\u001b[0mlayer_number\u001b[0m\u001b[0;34m]\u001b[0m\u001b[0;34m\u001b[0m\u001b[0;34m\u001b[0m\u001b[0m\n\u001b[1;32m     37\u001b[0m         \u001b[0mb\u001b[0m \u001b[0;34m=\u001b[0m \u001b[0mself\u001b[0m\u001b[0;34m.\u001b[0m\u001b[0mbiases\u001b[0m\u001b[0;34m[\u001b[0m\u001b[0mlayer_number\u001b[0m\u001b[0;34m]\u001b[0m\u001b[0;34m\u001b[0m\u001b[0;34m\u001b[0m\u001b[0m\n\u001b[0;32m---> 38\u001b[0;31m         \u001b[0mZ\u001b[0m \u001b[0;34m=\u001b[0m \u001b[0mW\u001b[0m \u001b[0;34m@\u001b[0m \u001b[0mA\u001b[0m \u001b[0;34m+\u001b[0m \u001b[0mb\u001b[0m\u001b[0;34m\u001b[0m\u001b[0;34m\u001b[0m\u001b[0m\n\u001b[0m\u001b[1;32m     39\u001b[0m         \u001b[0mact_fn\u001b[0m \u001b[0;34m=\u001b[0m \u001b[0mself\u001b[0m\u001b[0;34m.\u001b[0m\u001b[0mactivations\u001b[0m\u001b[0;34m[\u001b[0m\u001b[0mlayer_number\u001b[0m\u001b[0;34m]\u001b[0m\u001b[0;34m\u001b[0m\u001b[0;34m\u001b[0m\u001b[0m\n\u001b[1;32m     40\u001b[0m         \u001b[0mactivate\u001b[0m \u001b[0;34m=\u001b[0m \u001b[0mNeuralNetwork\u001b[0m\u001b[0;34m.\u001b[0m\u001b[0mactivation_functions\u001b[0m\u001b[0;34m[\u001b[0m\u001b[0mact_fn\u001b[0m\u001b[0;34m]\u001b[0m\u001b[0;34m\u001b[0m\u001b[0;34m\u001b[0m\u001b[0m\n",
      "\u001b[0;31mKeyboardInterrupt\u001b[0m: "
     ]
    }
   ],
   "source": [
    "cenn = nn.NeuralNetwork([784,30,10])\n",
    "ce_trial = cenn.train(training_data, epochs = 20, batch_size = 100, \n",
    "         learning_rate = 0.5, regularization = 0.1, evaluation_data = test_data, epochs_per_print=1)"
   ]
  },
  {
   "cell_type": "code",
   "execution_count": null,
   "metadata": {},
   "outputs": [],
   "source": []
  }
 ],
 "metadata": {
  "kernelspec": {
   "display_name": "Python 3",
   "language": "python",
   "name": "python3"
  },
  "language_info": {
   "codemirror_mode": {
    "name": "ipython",
    "version": 3
   },
   "file_extension": ".py",
   "mimetype": "text/x-python",
   "name": "python",
   "nbconvert_exporter": "python",
   "pygments_lexer": "ipython3",
   "version": "3.7.3"
  }
 },
 "nbformat": 4,
 "nbformat_minor": 2
}
