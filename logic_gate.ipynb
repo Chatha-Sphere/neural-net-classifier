{
 "cells": [
  {
   "cell_type": "code",
   "execution_count": 4,
   "metadata": {},
   "outputs": [],
   "source": [
    "import numpy as np\n",
    "from neural_network import NeuralNetwork, sigmoid"
   ]
  },
  {
   "cell_type": "markdown",
   "metadata": {},
   "source": [
    "#### AND"
   ]
  },
  {
   "cell_type": "code",
   "execution_count": 5,
   "metadata": {},
   "outputs": [],
   "source": [
    "X_train = np.asarray([[0,0], [0,1], [1,0], [1,1]])\n",
    "Y_train = np.asarray([0,0,0,1])\n",
    "training = X_train, Y_train"
   ]
  },
  {
   "cell_type": "code",
   "execution_count": 6,
   "metadata": {},
   "outputs": [],
   "source": [
    "and_gate = NeuralNetwork([2, 1])\n",
    "and_gate.train(training, 1000, batch_size=4, learning_rate=.5)"
   ]
  },
  {
   "cell_type": "code",
   "execution_count": 7,
   "metadata": {},
   "outputs": [
    {
     "name": "stdout",
     "output_type": "stream",
     "text": [
      "weights [[2.88759398 2.88822849]]\n",
      "biases [[-4.45119175]]\n",
      "0 & 0 -> 0; estimate: 0.01\n",
      "0 & 1 -> 0; estimate: 0.17\n",
      "1 & 0 -> 0; estimate: 0.17\n",
      "1 & 1 -> 1; estimate: 0.79\n"
     ]
    }
   ],
   "source": [
    "#evaluate:\n",
    "print(\"weights\", and_gate.weights[0])\n",
    "print(\"biases\", and_gate.biases[0])\n",
    "for p in ([0,0,0], [0,1,0], [1,0,0], [1,1,1]):\n",
    "    estimate = sigmoid(and_gate.weights[0] @ p[:2] + and_gate.biases[0])\n",
    "    print(\"{} & {} -> {}; estimate: {:.2f}\".format(p[0], p[1], p[2], estimate[0][0]))"
   ]
  },
  {
   "cell_type": "markdown",
   "metadata": {},
   "source": [
    "#### OR"
   ]
  },
  {
   "cell_type": "code",
   "execution_count": 9,
   "metadata": {},
   "outputs": [],
   "source": [
    "X_train = np.asarray([[0,0], [0,1], [1,0], [1,1]])\n",
    "Y_train = np.asarray([0,1,1,1])\n",
    "training = X_train, Y_train"
   ]
  },
  {
   "cell_type": "code",
   "execution_count": 10,
   "metadata": {},
   "outputs": [],
   "source": [
    "or_gate = NeuralNetwork([2, 1])\n",
    "or_gate.train(training, 1000, batch_size=4, learning_rate=0.8)"
   ]
  },
  {
   "cell_type": "code",
   "execution_count": 11,
   "metadata": {},
   "outputs": [
    {
     "name": "stdout",
     "output_type": "stream",
     "text": [
      "weights [[4.24614447 4.24952948]]\n",
      "biases [[-1.84758773]]\n",
      "0 | 0 -> 0; estimate: 0.14\n",
      "0 | 1 -> 1; estimate: 0.92\n",
      "1 | 0 -> 1; estimate: 0.92\n",
      "1 | 1 -> 1; estimate: 1.00\n"
     ]
    }
   ],
   "source": [
    "#evaluate:\n",
    "print(\"weights\", or_gate.weights[0])\n",
    "print(\"biases\", or_gate.biases[0])\n",
    "for p in ([0,0,0], [0,1,1], [1,0,1], [1,1,1]):\n",
    "    estimate = sigmoid(or_gate.weights[0] @ p[:2] + or_gate.biases[0])\n",
    "    print(\"{} | {} -> {}; estimate: {:.2f}\".format(p[0], p[1], p[2], estimate[0][0]))"
   ]
  },
  {
   "cell_type": "markdown",
   "metadata": {},
   "source": [
    "#### NOT"
   ]
  },
  {
   "cell_type": "code",
   "execution_count": 12,
   "metadata": {},
   "outputs": [],
   "source": [
    "X_train = np.asarray([[0], [1]])\n",
    "Y_train = np.asarray([1,0])\n",
    "training = X_train, Y_train"
   ]
  },
  {
   "cell_type": "code",
   "execution_count": 13,
   "metadata": {},
   "outputs": [],
   "source": [
    "not_gate = NeuralNetwork([1,1])\n",
    "not_gate.train(training, 1000, batch_size=4, learning_rate=0.5)"
   ]
  },
  {
   "cell_type": "code",
   "execution_count": 14,
   "metadata": {},
   "outputs": [
    {
     "name": "stdout",
     "output_type": "stream",
     "text": [
      "weights [[-4.83779162]]\n",
      "biases [[2.30173631]]\n",
      "!0 -> 1; estimate: 0.91\n",
      "!1 -> 0; estimate: 0.07\n"
     ]
    }
   ],
   "source": [
    "#evaluate:\n",
    "print(\"weights\", not_gate.weights[0])\n",
    "print(\"biases\", not_gate.biases[0])\n",
    "for p in ([0,1], [1,0]):\n",
    "    estimate = sigmoid(not_gate.weights[0] @ p[:1] + not_gate.biases[0])\n",
    "    print(\"!{} -> {}; estimate: {:.2f}\".format(p[0], p[1], estimate[0][0]))"
   ]
  }
 ],
 "metadata": {
  "kernelspec": {
   "display_name": "Python 3",
   "language": "python",
   "name": "python3"
  },
  "language_info": {
   "codemirror_mode": {
    "name": "ipython",
    "version": 3
   },
   "file_extension": ".py",
   "mimetype": "text/x-python",
   "name": "python",
   "nbconvert_exporter": "python",
   "pygments_lexer": "ipython3",
   "version": "3.7.3"
  }
 },
 "nbformat": 4,
 "nbformat_minor": 2
}
