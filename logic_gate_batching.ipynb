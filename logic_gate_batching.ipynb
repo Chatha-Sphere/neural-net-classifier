{
 "cells": [
  {
   "cell_type": "code",
   "execution_count": 1,
   "metadata": {},
   "outputs": [],
   "source": [
    "import numpy as np\n",
    "from neural_network import NeuralNetwork, sigmoid"
   ]
  },
  {
   "cell_type": "markdown",
   "metadata": {},
   "source": [
    "#### AND"
   ]
  },
  {
   "cell_type": "code",
   "execution_count": 2,
   "metadata": {},
   "outputs": [],
   "source": [
    "X_train = np.random.randint(2, size=(800,2))\n",
    "Y_train = X_train.prod(axis=1).reshape(-1,1)\n",
    "X_test = np.random.randint(2, size=(200,2))\n",
    "Y_test = X_test.prod(axis=1).reshape(-1,1)\n",
    "training = X_train, Y_train\n",
    "test = X_test, Y_test"
   ]
  },
  {
   "cell_type": "code",
   "execution_count": 3,
   "metadata": {},
   "outputs": [
    {
     "name": "stdout",
     "output_type": "stream",
     "text": [
      "Evaluating Epoch 100\n",
      "--> MSE: 0.02\n",
      "--> Correct prediction: 200 / 200\n",
      "----> 100.00%\n",
      "Evaluating Epoch 200\n",
      "--> MSE: 0.01\n",
      "--> Correct prediction: 200 / 200\n",
      "----> 100.00%\n",
      "Evaluating Epoch 300\n",
      "--> MSE: 0.00\n",
      "--> Correct prediction: 200 / 200\n",
      "----> 100.00%\n"
     ]
    }
   ],
   "source": [
    "and_gate = NeuralNetwork([2, 1])\n",
    "and_gate.train(training, 300, batch_size=100, learning_rate=.5, test_data = test)"
   ]
  },
  {
   "cell_type": "code",
   "execution_count": 4,
   "metadata": {},
   "outputs": [
    {
     "name": "stdout",
     "output_type": "stream",
     "text": [
      "weights [[3.96713325 4.00168663]]\n",
      "biases [[-6.075595]]\n",
      "0 & 0 -> 0; estimate: 0.00\n",
      "0 & 1 -> 0; estimate: 0.11\n",
      "1 & 0 -> 0; estimate: 0.11\n",
      "1 & 1 -> 1; estimate: 0.87\n"
     ]
    }
   ],
   "source": [
    "#evaluate:\n",
    "print(\"weights\", and_gate.weights[0])\n",
    "print(\"biases\", and_gate.biases[0])\n",
    "for p in ([0,0,0], [0,1,0], [1,0,0], [1,1,1]):\n",
    "    estimate = sigmoid(and_gate.weights[0] @ p[:2] + and_gate.biases[0])\n",
    "    print(\"{} & {} -> {}; estimate: {:.2f}\".format(p[0], p[1], p[2], estimate[0][0]))"
   ]
  },
  {
   "cell_type": "markdown",
   "metadata": {},
   "source": [
    "#### OR"
   ]
  },
  {
   "cell_type": "code",
   "execution_count": 6,
   "metadata": {},
   "outputs": [],
   "source": [
    "X_train = np.random.randint(2, size=(800,2))\n",
    "Y_train = X_train.max(axis=1).reshape(-1,1)\n",
    "X_test = np.random.randint(2, size=(200,2))\n",
    "Y_test = X_test.max(axis=1).reshape(-1,1)\n",
    "training = X_train, Y_train\n",
    "test= X_test, Y_test"
   ]
  },
  {
   "cell_type": "code",
   "execution_count": 5,
   "metadata": {},
   "outputs": [
    {
     "ename": "TrainingError",
     "evalue": "1 feature(s) in inputs, expected 2",
     "output_type": "error",
     "traceback": [
      "\u001b[0;31m---------------------------------------------------------------------------\u001b[0m",
      "\u001b[0;31mTrainingError\u001b[0m                             Traceback (most recent call last)",
      "\u001b[0;32m<ipython-input-5-eab9d0b9f3f9>\u001b[0m in \u001b[0;36m<module>\u001b[0;34m\u001b[0m\n\u001b[1;32m      1\u001b[0m \u001b[0mor_gate\u001b[0m \u001b[0;34m=\u001b[0m \u001b[0mNeuralNetwork\u001b[0m\u001b[0;34m(\u001b[0m\u001b[0;34m[\u001b[0m\u001b[0;36m2\u001b[0m\u001b[0;34m,\u001b[0m \u001b[0;36m1\u001b[0m\u001b[0;34m]\u001b[0m\u001b[0;34m)\u001b[0m\u001b[0;34m\u001b[0m\u001b[0;34m\u001b[0m\u001b[0m\n\u001b[0;32m----> 2\u001b[0;31m \u001b[0mor_gate\u001b[0m\u001b[0;34m.\u001b[0m\u001b[0mtrain\u001b[0m\u001b[0;34m(\u001b[0m\u001b[0mtraining\u001b[0m\u001b[0;34m,\u001b[0m \u001b[0;36m300\u001b[0m\u001b[0;34m,\u001b[0m \u001b[0mbatch_size\u001b[0m\u001b[0;34m=\u001b[0m\u001b[0;36m100\u001b[0m\u001b[0;34m,\u001b[0m \u001b[0mlearning_rate\u001b[0m\u001b[0;34m=\u001b[0m\u001b[0;36m0.5\u001b[0m\u001b[0;34m,\u001b[0m \u001b[0mtest_data\u001b[0m\u001b[0;34m=\u001b[0m\u001b[0mtest\u001b[0m\u001b[0;34m)\u001b[0m\u001b[0;34m\u001b[0m\u001b[0;34m\u001b[0m\u001b[0m\n\u001b[0m",
      "\u001b[0;32m~/projects/neural_net_classifier/neural_network.py\u001b[0m in \u001b[0;36mtrain\u001b[0;34m(self, training_data, epochs, learning_rate, batch_size, test_data, evaluate_per)\u001b[0m\n\u001b[1;32m    125\u001b[0m         \u001b[0;32melif\u001b[0m \u001b[0mtraining_data\u001b[0m\u001b[0;34m[\u001b[0m\u001b[0;36m0\u001b[0m\u001b[0;34m]\u001b[0m\u001b[0;34m.\u001b[0m\u001b[0mshape\u001b[0m\u001b[0;34m[\u001b[0m\u001b[0;36m1\u001b[0m\u001b[0;34m]\u001b[0m \u001b[0;34m!=\u001b[0m \u001b[0mself\u001b[0m\u001b[0;34m.\u001b[0m\u001b[0msizes\u001b[0m\u001b[0;34m[\u001b[0m\u001b[0;36m0\u001b[0m\u001b[0;34m]\u001b[0m\u001b[0;34m:\u001b[0m\u001b[0;34m\u001b[0m\u001b[0;34m\u001b[0m\u001b[0m\n\u001b[1;32m    126\u001b[0m             raise TrainingError(\"{} feature(s) in inputs, expected {}\"\\\n\u001b[0;32m--> 127\u001b[0;31m                     .format(training_data[0].shape[1], self.sizes[0]))\n\u001b[0m\u001b[1;32m    128\u001b[0m         \u001b[0;32melif\u001b[0m \u001b[0mtraining_data\u001b[0m\u001b[0;34m[\u001b[0m\u001b[0;36m1\u001b[0m\u001b[0;34m]\u001b[0m\u001b[0;34m.\u001b[0m\u001b[0mshape\u001b[0m\u001b[0;34m[\u001b[0m\u001b[0;36m1\u001b[0m\u001b[0;34m]\u001b[0m \u001b[0;34m!=\u001b[0m \u001b[0mself\u001b[0m\u001b[0;34m.\u001b[0m\u001b[0msizes\u001b[0m\u001b[0;34m[\u001b[0m\u001b[0;34m-\u001b[0m\u001b[0;36m1\u001b[0m\u001b[0;34m]\u001b[0m\u001b[0;34m:\u001b[0m\u001b[0;34m\u001b[0m\u001b[0;34m\u001b[0m\u001b[0m\n\u001b[1;32m    129\u001b[0m             raise TrainingError(\"{} classes in outputs, expected{}\"\\\n",
      "\u001b[0;31mTrainingError\u001b[0m: 1 feature(s) in inputs, expected 2"
     ]
    }
   ],
   "source": [
    "or_gate = NeuralNetwork([2, 1])\n",
    "or_gate.train(training, 300, batch_size=100, learning_rate=0.5, test_data=test)"
   ]
  },
  {
   "cell_type": "code",
   "execution_count": 72,
   "metadata": {},
   "outputs": [
    {
     "name": "stdout",
     "output_type": "stream",
     "text": [
      "weights [[4.66508757 4.6578711 ]]\n",
      "biases [[-2.0251375]]\n",
      "0 | 0 -> 0; estimate: 0.12\n",
      "0 | 1 -> 1; estimate: 0.93\n",
      "1 | 0 -> 1; estimate: 0.93\n",
      "1 | 1 -> 1; estimate: 1.00\n"
     ]
    }
   ],
   "source": [
    "#evaluate:\n",
    "print(\"weights\", or_gate.weights[0])\n",
    "print(\"biases\", or_gate.biases[0])\n",
    "for p in ([0,0,0], [0,1,1], [1,0,1], [1,1,1]):\n",
    "    estimate = sigmoid(or_gate.weights[0] @ p[:2] + or_gate.biases[0])\n",
    "    print(\"{} | {} -> {}; estimate: {:.2f}\".format(p[0], p[1], p[2], estimate[0][0]))"
   ]
  },
  {
   "cell_type": "markdown",
   "metadata": {},
   "source": [
    "#### NOT"
   ]
  },
  {
   "cell_type": "code",
   "execution_count": 4,
   "metadata": {},
   "outputs": [],
   "source": [
    "X_train = np.random.randint(2, size=(800,1))\n",
    "Y_train = 1 - X_train\n",
    "X_test = np.random.randint(2, size=(200,1))\n",
    "Y_test = 1 - X_test\n",
    "training = X_train, Y_train\n",
    "test = X_test, Y_test"
   ]
  },
  {
   "cell_type": "code",
   "execution_count": 76,
   "metadata": {},
   "outputs": [
    {
     "name": "stdout",
     "output_type": "stream",
     "text": [
      "Evaluating Epoch 100\n",
      "--> MSE: 0.00\n",
      "--> Correct prediction: 200 / 200\n",
      "----> 100.00%\n",
      "Evaluating Epoch 200\n",
      "--> MSE: 0.00\n",
      "--> Correct prediction: 200 / 200\n",
      "----> 100.00%\n",
      "Evaluating Epoch 300\n",
      "--> MSE: 0.00\n",
      "--> Correct prediction: 200 / 200\n",
      "----> 100.00%\n"
     ]
    }
   ],
   "source": [
    "not_gate = NeuralNetwork([1,1])\n",
    "not_gate.train(training, 300, batch_size=100, learning_rate=0.5, test_data=test)"
   ]
  },
  {
   "cell_type": "code",
   "execution_count": 75,
   "metadata": {},
   "outputs": [
    {
     "name": "stdout",
     "output_type": "stream",
     "text": [
      "weights [[-5.88390767]]\n",
      "biases [[2.81511374]]\n",
      "!0 -> 1; estimate: 0.94\n",
      "!1 -> 0; estimate: 0.04\n"
     ]
    }
   ],
   "source": [
    "#evaluate:\n",
    "print(\"weights\", not_gate.weights[0])\n",
    "print(\"biases\", not_gate.biases[0])\n",
    "for p in ([0,1], [1,0]):\n",
    "    estimate = sigmoid(not_gate.weights[0] @ p[:1] + not_gate.biases[0])\n",
    "    print(\"!{} -> {}; estimate: {:.2f}\".format(p[0], p[1], estimate[0][0]))"
   ]
  }
 ],
 "metadata": {
  "kernelspec": {
   "display_name": "Python 3",
   "language": "python",
   "name": "python3"
  },
  "language_info": {
   "codemirror_mode": {
    "name": "ipython",
    "version": 3
   },
   "file_extension": ".py",
   "mimetype": "text/x-python",
   "name": "python",
   "nbconvert_exporter": "python",
   "pygments_lexer": "ipython3",
   "version": "3.7.3"
  }
 },
 "nbformat": 4,
 "nbformat_minor": 2
}
