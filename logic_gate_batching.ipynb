{
 "cells": [
  {
   "cell_type": "code",
   "execution_count": 3,
   "metadata": {},
   "outputs": [],
   "source": [
    "import numpy as np\n",
    "from importlib import reload\n",
    "import neural_net\n",
    "from neural_net import sigmoid"
   ]
  },
  {
   "cell_type": "code",
   "execution_count": 51,
   "metadata": {},
   "outputs": [
    {
     "data": {
      "text/plain": [
       "<module 'neural_net' from '/Users/nikku/projects/neural_net_classifier/neural_net.py'>"
      ]
     },
     "execution_count": 51,
     "metadata": {},
     "output_type": "execute_result"
    }
   ],
   "source": [
    "reload(neural_net)"
   ]
  },
  {
   "cell_type": "markdown",
   "metadata": {},
   "source": [
    "#### AND"
   ]
  },
  {
   "cell_type": "code",
   "execution_count": 43,
   "metadata": {},
   "outputs": [],
   "source": [
    "X_train = np.random.randint(2, size=(800,2))\n",
    "Y_train = X_train.prod(axis=1).reshape(-1,1)\n",
    "X_test = np.random.randint(2, size=(200,2))\n",
    "Y_test = X_test.prod(axis=1).reshape(-1,1)\n",
    "training = X_train, Y_train\n",
    "test = X_test, Y_test"
   ]
  },
  {
   "cell_type": "code",
   "execution_count": null,
   "metadata": {},
   "outputs": [
    {
     "name": "stdout",
     "output_type": "stream",
     "text": [
      "Evaluating Epoch 0\n",
      "--> MSE: 0.12\n",
      "--> Correct prediction: 93 / 200\n",
      "Evaluating Epoch 100\n",
      "--> MSE: 0.02\n",
      "--> Correct prediction: 200 / 200\n",
      "Evaluating Epoch 200\n",
      "--> MSE: 0.01\n",
      "--> Correct prediction: 200 / 200\n",
      "Evaluating Epoch 300\n",
      "--> MSE: 0.01\n",
      "--> Correct prediction: 200 / 200\n",
      "Evaluating Epoch 400\n",
      "--> MSE: 0.00\n",
      "--> Correct prediction: 200 / 200\n",
      "Evaluating Epoch 500\n",
      "--> MSE: 0.00\n",
      "--> Correct prediction: 200 / 200\n",
      "Evaluating Epoch 600\n",
      "--> MSE: 0.00\n",
      "--> Correct prediction: 200 / 200\n",
      "Evaluating Epoch 700\n",
      "--> MSE: 0.00\n",
      "--> Correct prediction: 200 / 200\n",
      "Evaluating Epoch 800\n",
      "--> MSE: 0.00\n",
      "--> Correct prediction: 200 / 200\n",
      "Evaluating Epoch 900\n",
      "--> MSE: 0.00\n",
      "--> Correct prediction: 200 / 200\n",
      "Evaluating Epoch 1000\n",
      "--> MSE: 0.00\n",
      "--> Correct prediction: 200 / 200\n",
      "Evaluating Epoch 1100\n",
      "--> MSE: 0.00\n",
      "--> Correct prediction: 200 / 200\n",
      "Evaluating Epoch 1200\n",
      "--> MSE: 0.00\n",
      "--> Correct prediction: 200 / 200\n",
      "Evaluating Epoch 1300\n",
      "--> MSE: 0.00\n",
      "--> Correct prediction: 200 / 200\n",
      "Evaluating Epoch 1400\n",
      "--> MSE: 0.00\n",
      "--> Correct prediction: 200 / 200\n",
      "Evaluating Epoch 1500\n",
      "--> MSE: 0.00\n",
      "--> Correct prediction: 200 / 200\n",
      "Evaluating Epoch 1600\n",
      "--> MSE: 0.00\n",
      "--> Correct prediction: 200 / 200\n"
     ]
    }
   ],
   "source": [
    "and_gate = neural_net.NeuralNetwork([2, 1])\n",
    "and_gate.train(training, 3000, batch_size=100, learning_rate=.5, test_data = test)"
   ]
  },
  {
   "cell_type": "code",
   "execution_count": 18,
   "metadata": {},
   "outputs": [
    {
     "name": "stdout",
     "output_type": "stream",
     "text": [
      "weights [[5.42993846 5.47698275]]\n",
      "biases [[-8.27764968]]\n",
      "0 & 0 -> 0; estimate: 0.00\n",
      "0 & 1 -> 0; estimate: 0.06\n",
      "1 & 0 -> 0; estimate: 0.05\n",
      "1 & 1 -> 1; estimate: 0.93\n"
     ]
    }
   ],
   "source": [
    "#evaluate:\n",
    "print(\"weights\", and_gate.weights[0])\n",
    "print(\"biases\", and_gate.biases[0])\n",
    "for p in ([0,0,0], [0,1,0], [1,0,0], [1,1,1]):\n",
    "    estimate = sigmoid(and_gate.weights[0] @ p[:2] + and_gate.biases[0])\n",
    "    print(\"{} & {} -> {}; estimate: {:.2f}\".format(p[0], p[1], p[2], estimate[0][0]))"
   ]
  },
  {
   "cell_type": "markdown",
   "metadata": {},
   "source": [
    "#### OR"
   ]
  },
  {
   "cell_type": "code",
   "execution_count": 22,
   "metadata": {},
   "outputs": [],
   "source": [
    "X_train = np.random.randint(2, size=(800,2))\n",
    "Y_train = X_train.max(axis=1).reshape(-1,1)\n",
    "X_test = np.random.randint(2, size=(200,2))\n",
    "Y_test = X_test.max(axis=1).reshape(-1,1)\n",
    "training = X_train, Y_train"
   ]
  },
  {
   "cell_type": "code",
   "execution_count": 23,
   "metadata": {},
   "outputs": [],
   "source": [
    "or_gate = neural_net.NeuralNetwork([2, 1])\n",
    "or_gate.train(training, 1000, batch_size=100, learning_rate=0.5)"
   ]
  },
  {
   "cell_type": "code",
   "execution_count": 24,
   "metadata": {},
   "outputs": [
    {
     "name": "stdout",
     "output_type": "stream",
     "text": [
      "weights [[6.22069041 6.20792051]]\n",
      "biases [[-2.84241082]]\n",
      "0 | 0 -> 0; estimate: 0.06\n",
      "0 | 1 -> 1; estimate: 0.97\n",
      "1 | 0 -> 1; estimate: 0.97\n",
      "1 | 1 -> 1; estimate: 1.00\n"
     ]
    }
   ],
   "source": [
    "#evaluate:\n",
    "print(\"weights\", or_gate.weights[0])\n",
    "print(\"biases\", or_gate.biases[0])\n",
    "for p in ([0,0,0], [0,1,1], [1,0,1], [1,1,1]):\n",
    "    estimate = sigmoid(or_gate.weights[0] @ p[:2] + or_gate.biases[0])\n",
    "    print(\"{} | {} -> {}; estimate: {:.2f}\".format(p[0], p[1], p[2], estimate[0][0]))"
   ]
  },
  {
   "cell_type": "markdown",
   "metadata": {},
   "source": [
    "#### NOT"
   ]
  },
  {
   "cell_type": "code",
   "execution_count": 38,
   "metadata": {},
   "outputs": [],
   "source": [
    "X_train = np.random.randint(2, size=(800,1))\n",
    "Y_train = 1 - X_train\n",
    "X_test = np.random.randint(2, size=(200,1))\n",
    "Y_test = 1 - X_test\n",
    "training = X_train, Y_train"
   ]
  },
  {
   "cell_type": "code",
   "execution_count": 39,
   "metadata": {},
   "outputs": [],
   "source": [
    "not_gate = neural_net.NeuralNetwork([1,1])\n",
    "not_gate.train(training, 1000, batch_size=100, learning_rate=0.5)"
   ]
  },
  {
   "cell_type": "code",
   "execution_count": 40,
   "metadata": {},
   "outputs": [
    {
     "name": "stdout",
     "output_type": "stream",
     "text": [
      "weights [[-7.23742787]]\n",
      "biases [[3.54157247]]\n",
      "!0 -> 1; estimate: 0.97\n",
      "!1 -> 0; estimate: 0.02\n"
     ]
    }
   ],
   "source": [
    "#evaluate:\n",
    "print(\"weights\", not_gate.weights[0])\n",
    "print(\"biases\", not_gate.biases[0])\n",
    "for p in ([0,1], [1,0]):\n",
    "    estimate = sigmoid(not_gate.weights[0] @ p[:1] + not_gate.biases[0])\n",
    "    print(\"!{} -> {}; estimate: {:.2f}\".format(p[0], p[1], estimate[0][0]))"
   ]
  }
 ],
 "metadata": {
  "kernelspec": {
   "display_name": "Python 3",
   "language": "python",
   "name": "python3"
  },
  "language_info": {
   "codemirror_mode": {
    "name": "ipython",
    "version": 3
   },
   "file_extension": ".py",
   "mimetype": "text/x-python",
   "name": "python",
   "nbconvert_exporter": "python",
   "pygments_lexer": "ipython3",
   "version": "3.7.3"
  }
 },
 "nbformat": 4,
 "nbformat_minor": 2
}
