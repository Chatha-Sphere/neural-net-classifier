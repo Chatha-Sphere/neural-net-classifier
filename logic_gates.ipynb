{
 "cells": [
  {
   "cell_type": "code",
   "execution_count": 2,
   "metadata": {},
   "outputs": [],
   "source": [
    "import numpy as np\n",
    "from neural_network.helpers import sigmoid\n",
    "import neural_network.neural_network1 as nn"
   ]
  },
  {
   "cell_type": "markdown",
   "metadata": {},
   "source": [
    "### AND GATE"
   ]
  },
  {
   "cell_type": "markdown",
   "metadata": {},
   "source": [
    "0 & 1 -> 0 <br>\n",
    "0 & 0 -> 0 <br>\n",
    "1 & 1 - > 1 <br>"
   ]
  },
  {
   "cell_type": "code",
   "execution_count": 66,
   "metadata": {},
   "outputs": [],
   "source": [
    "X_train = np.random.randint(2, size=(800,2))\n",
    "Y_train = X_train.prod(axis=1).reshape(-1,1)\n",
    "X_test = np.random.randint(2, size=(200,2))\n",
    "Y_test = X_test.prod(axis=1).reshape(-1,1)\n",
    "training = X_train, Y_train\n",
    "test = X_test, Y_test"
   ]
  },
  {
   "cell_type": "code",
   "execution_count": 72,
   "metadata": {},
   "outputs": [
    {
     "name": "stdout",
     "output_type": "stream",
     "text": [
      "Evaluating Epoch 1\n",
      "--> MSE: 0.10\n",
      "--> Correct prediction: 154 / 200\n",
      "----> 77.00%\n",
      "Evaluating Epoch 2\n",
      "--> MSE: 0.09\n",
      "--> Correct prediction: 154 / 200\n",
      "----> 77.00%\n",
      "Evaluating Epoch 3\n",
      "--> MSE: 0.08\n",
      "--> Correct prediction: 154 / 200\n",
      "----> 77.00%\n",
      "Evaluating Epoch 4\n",
      "--> MSE: 0.07\n",
      "--> Correct prediction: 154 / 200\n",
      "----> 77.00%\n",
      "Evaluating Epoch 5\n",
      "--> MSE: 0.07\n",
      "--> Correct prediction: 154 / 200\n",
      "----> 77.00%\n",
      "Evaluating Epoch 6\n",
      "--> MSE: 0.06\n",
      "--> Correct prediction: 200 / 200\n",
      "----> 100.00%\n",
      "Evaluating Epoch 7\n",
      "--> MSE: 0.06\n",
      "--> Correct prediction: 200 / 200\n",
      "----> 100.00%\n",
      "Evaluating Epoch 8\n",
      "--> MSE: 0.06\n",
      "--> Correct prediction: 200 / 200\n",
      "----> 100.00%\n",
      "Evaluating Epoch 9\n",
      "--> MSE: 0.05\n",
      "--> Correct prediction: 200 / 200\n",
      "----> 100.00%\n",
      "Evaluating Epoch 10\n",
      "--> MSE: 0.05\n",
      "--> Correct prediction: 200 / 200\n",
      "----> 100.00%\n"
     ]
    }
   ],
   "source": [
    "and_gate = nn.NeuralNetwork([2, 1])\n",
    "and_gate.train(training, 10, batch_size=100, learning_rate=1, test_data = test, evaluate_per = 1)"
   ]
  },
  {
   "cell_type": "code",
   "execution_count": 31,
   "metadata": {},
   "outputs": [
    {
     "name": "stdout",
     "output_type": "stream",
     "text": [
      "weights [[-0.17210542 -0.2918722 ]]\n",
      "biases [[-0.76364469]]\n",
      "0 & 0 -> 0; estimate: 0.32\n",
      "0 & 1 -> 0; estimate: 0.26\n",
      "1 & 0 -> 0; estimate: 0.28\n",
      "1 & 1 -> 1; estimate: 0.23\n"
     ]
    }
   ],
   "source": [
    "#evaluate:\n",
    "print(\"weights\", and_gate.weights[0])\n",
    "print(\"biases\", and_gate.biases[0])\n",
    "for p in ([0,0,0], [0,1,0], [1,0,0], [1,1,1]):\n",
    "    estimate = sigmoid(and_gate.weights[0] @ p[:2] + and_gate.biases[0])\n",
    "    print(\"{} & {} -> {}; estimate: {:.2f}\".format(p[0], p[1], p[2], estimate[0][0]))"
   ]
  },
  {
   "cell_type": "markdown",
   "metadata": {},
   "source": [
    "#### OR"
   ]
  },
  {
   "cell_type": "code",
   "execution_count": 56,
   "metadata": {},
   "outputs": [],
   "source": [
    "X_train = np.random.randint(2, size=(800,2))\n",
    "Y_train = X_train.max(axis=1).reshape(-1,1)\n",
    "X_test = np.random.randint(2, size=(200,2))\n",
    "Y_test = X_test.max(axis=1).reshape(-1,1)\n",
    "training = X_train, Y_train\n",
    "test= X_test, Y_test"
   ]
  },
  {
   "cell_type": "code",
   "execution_count": 57,
   "metadata": {},
   "outputs": [
    {
     "data": {
      "text/plain": [
       "array([[1, 1],\n",
       "       [1, 0],\n",
       "       [0, 0],\n",
       "       [0, 0],\n",
       "       [1, 0],\n",
       "       [1, 0],\n",
       "       [0, 1],\n",
       "       [1, 0],\n",
       "       [1, 1],\n",
       "       [1, 1]])"
      ]
     },
     "execution_count": 57,
     "metadata": {},
     "output_type": "execute_result"
    }
   ],
   "source": [
    "X_train[:10]"
   ]
  },
  {
   "cell_type": "code",
   "execution_count": 58,
   "metadata": {},
   "outputs": [
    {
     "data": {
      "text/plain": [
       "array([[1],\n",
       "       [1],\n",
       "       [0],\n",
       "       [0],\n",
       "       [1],\n",
       "       [1],\n",
       "       [1],\n",
       "       [1],\n",
       "       [1],\n",
       "       [1]])"
      ]
     },
     "execution_count": 58,
     "metadata": {},
     "output_type": "execute_result"
    }
   ],
   "source": [
    "Y_train[:10]"
   ]
  },
  {
   "cell_type": "code",
   "execution_count": 59,
   "metadata": {},
   "outputs": [
    {
     "name": "stdout",
     "output_type": "stream",
     "text": [
      "Evaluating Epoch 100\n",
      "--> MSE: 0.01\n",
      "--> Correct prediction: 200 / 200\n",
      "----> 100.00%\n",
      "Evaluating Epoch 200\n",
      "--> MSE: 0.00\n",
      "--> Correct prediction: 200 / 200\n",
      "----> 100.00%\n",
      "Evaluating Epoch 300\n",
      "--> MSE: 0.00\n",
      "--> Correct prediction: 200 / 200\n",
      "----> 100.00%\n"
     ]
    }
   ],
   "source": [
    "or_gate = nn.NeuralNetwork([2, 1])\n",
    "or_gate.train(training, 300, batch_size=100, learning_rate=0.5, test_data=test)"
   ]
  },
  {
   "cell_type": "code",
   "execution_count": 60,
   "metadata": {},
   "outputs": [
    {
     "name": "stdout",
     "output_type": "stream",
     "text": [
      "weights [[4.68622424 4.69746424]]\n",
      "biases [[-2.07224741]]\n",
      "0 | 0 -> 0; estimate: 0.11\n",
      "0 | 1 -> 1; estimate: 0.93\n",
      "1 | 0 -> 1; estimate: 0.93\n",
      "1 | 1 -> 1; estimate: 1.00\n"
     ]
    }
   ],
   "source": [
    "#evaluate:\n",
    "print(\"weights\", or_gate.weights[0])\n",
    "print(\"biases\", or_gate.biases[0])\n",
    "for p in ([0,0,0], [0,1,1], [1,0,1], [1,1,1]):\n",
    "    estimate = sigmoid(or_gate.weights[0] @ p[:2] + or_gate.biases[0])\n",
    "    print(\"{} | {} -> {}; estimate: {:.2f}\".format(p[0], p[1], p[2], estimate[0][0]))"
   ]
  },
  {
   "cell_type": "markdown",
   "metadata": {},
   "source": [
    "#### NOT"
   ]
  },
  {
   "cell_type": "code",
   "execution_count": 13,
   "metadata": {},
   "outputs": [],
   "source": [
    "X_train = np.random.randint(2, size=(800,1))\n",
    "Y_train = 1 - X_train\n",
    "X_test = np.random.randint(2, size=(200,1))\n",
    "Y_test = 1 - X_test\n",
    "training = X_train, Y_train\n",
    "test = X_test, Y_test"
   ]
  },
  {
   "cell_type": "code",
   "execution_count": 14,
   "metadata": {},
   "outputs": [
    {
     "name": "stdout",
     "output_type": "stream",
     "text": [
      "Evaluating Epoch 100\n",
      "--> MSE: 0.00\n",
      "--> Correct prediction: 200 / 200\n",
      "----> 100.00%\n",
      "Evaluating Epoch 200\n",
      "--> MSE: 0.00\n",
      "--> Correct prediction: 200 / 200\n",
      "----> 100.00%\n",
      "Evaluating Epoch 300\n",
      "--> MSE: 0.00\n",
      "--> Correct prediction: 200 / 200\n",
      "----> 100.00%\n"
     ]
    }
   ],
   "source": [
    "not_gate = nn.NeuralNetwork([1,1])\n",
    "not_gate.train(training, 300, batch_size=100, learning_rate=0.5, test_data=test)"
   ]
  },
  {
   "cell_type": "code",
   "execution_count": 15,
   "metadata": {},
   "outputs": [
    {
     "name": "stdout",
     "output_type": "stream",
     "text": [
      "weights [[-5.88390767]]\n",
      "biases [[2.81511374]]\n",
      "!0 -> 1; estimate: 0.94\n",
      "!1 -> 0; estimate: 0.04\n"
     ]
    }
   ],
   "source": [
    "#evaluate:\n",
    "print(\"weights\", not_gate.weights[0])\n",
    "print(\"biases\", not_gate.biases[0])\n",
    "for p in ([0,1], [1,0]):\n",
    "    estimate = sigmoid(not_gate.weights[0] @ p[:1] + not_gate.biases[0])\n",
    "    print(\"!{} -> {}; estimate: {:.2f}\".format(p[0], p[1], estimate[0][0]))"
   ]
  },
  {
   "cell_type": "markdown",
   "metadata": {},
   "source": [
    "### XOR ... or XORN'T"
   ]
  },
  {
   "cell_type": "code",
   "execution_count": 61,
   "metadata": {},
   "outputs": [],
   "source": [
    "X_train = np.random.randint(2, size=(800,2))\n",
    "Y_train = np.mod(X_train.sum(axis=1).reshape(-1,1), 2)\n",
    "X_test = np.random.randint(2, size=(200,2))\n",
    "Y_test = np.mod(X_test.sum(axis=1).reshape(-1,1), 2)\n",
    "training = X_train, Y_train\n",
    "test= X_test, Y_test"
   ]
  },
  {
   "cell_type": "code",
   "execution_count": 62,
   "metadata": {},
   "outputs": [
    {
     "name": "stdout",
     "output_type": "stream",
     "text": [
      "Evaluating Epoch 100\n",
      "--> MSE: 0.13\n",
      "--> Correct prediction: 149 / 200\n",
      "----> 74.50%\n",
      "Evaluating Epoch 200\n",
      "--> MSE: 0.13\n",
      "--> Correct prediction: 149 / 200\n",
      "----> 74.50%\n",
      "Evaluating Epoch 300\n",
      "--> MSE: 0.13\n",
      "--> Correct prediction: 149 / 200\n",
      "----> 74.50%\n"
     ]
    }
   ],
   "source": [
    "xor_gate = nn.NeuralNetwork([2, 1])\n",
    "xor_gate.train(training, 300, batch_size=100, learning_rate=0.5, test_data=test)"
   ]
  },
  {
   "cell_type": "markdown",
   "metadata": {},
   "source": [
    "#### ... a one-layer neural network won't cut it"
   ]
  },
  {
   "cell_type": "code",
   "execution_count": 63,
   "metadata": {},
   "outputs": [
    {
     "name": "stdout",
     "output_type": "stream",
     "text": [
      "Evaluating Epoch 100\n",
      "--> MSE: 0.11\n",
      "--> Correct prediction: 137 / 200\n",
      "----> 68.50%\n",
      "Evaluating Epoch 200\n",
      "--> MSE: 0.03\n",
      "--> Correct prediction: 200 / 200\n",
      "----> 100.00%\n",
      "Evaluating Epoch 300\n",
      "--> MSE: 0.01\n",
      "--> Correct prediction: 200 / 200\n",
      "----> 100.00%\n"
     ]
    }
   ],
   "source": [
    "xor_gate2 = nn.NeuralNetwork([2,2,1])\n",
    "xor_gate2.train(training, 300, batch_size=100, learning_rate=0.5, test_data=test)"
   ]
  }
 ],
 "metadata": {
  "kernelspec": {
   "display_name": "Python 3",
   "language": "python",
   "name": "python3"
  },
  "language_info": {
   "codemirror_mode": {
    "name": "ipython",
    "version": 3
   },
   "file_extension": ".py",
   "mimetype": "text/x-python",
   "name": "python",
   "nbconvert_exporter": "python",
   "pygments_lexer": "ipython3",
   "version": "3.7.3"
  }
 },
 "nbformat": 4,
 "nbformat_minor": 2
}
